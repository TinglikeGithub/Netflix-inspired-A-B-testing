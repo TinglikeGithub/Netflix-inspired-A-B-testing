{
 "cells": [
  {
   "cell_type": "markdown",
   "id": "bcdc2e8b",
   "metadata": {},
   "source": [
    "# Project Description\n",
    "\n",
    "Netflix-inspired experiments with multiple design factors aim to minimize user browsing time by examining four primary factors: Tile Size, Match Score, Preview Length, and Preview Type. "
   ]
  },
  {
   "cell_type": "code",
   "execution_count": 1,
   "id": "2a207559-513a-4af9-9723-d13497323644",
   "metadata": {},
   "outputs": [],
   "source": [
    "import pandas as pd\n",
    "import numpy as np\n",
    "\n",
    "from scipy import stats\n",
    "import statsmodels.formula.api as smf\n",
    "\n",
    "import matplotlib.pyplot as plt"
   ]
  },
  {
   "cell_type": "markdown",
   "id": "728c06ae",
   "metadata": {},
   "source": [
    "# A two-level factor screening experiment to identify key factors and refine target ranges"
   ]
  },
  {
   "cell_type": "markdown",
   "id": "1ed086ae",
   "metadata": {},
   "source": [
    "# Load and Examine Data"
   ]
  },
  {
   "cell_type": "code",
   "execution_count": 6,
   "id": "521fc5db-2e13-4286-9f02-750ce3326e2c",
   "metadata": {},
   "outputs": [
    {
     "data": {
      "text/plain": [
       "(1100, 5)"
      ]
     },
     "execution_count": 6,
     "metadata": {},
     "output_type": "execute_result"
    }
   ],
   "source": [
    "df_2k = pd.read_csv('../2ktest.csv')\n",
    "df_2k.shape"
   ]
  },
  {
   "cell_type": "code",
   "execution_count": 48,
   "id": "6a2ae774",
   "metadata": {},
   "outputs": [],
   "source": [
    "df = pd.read_csv('../test1.csv')"
   ]
  },
  {
   "cell_type": "code",
   "execution_count": 9,
   "id": "135f4762-07bf-4b95-96ff-18d38bf34a93",
   "metadata": {},
   "outputs": [
    {
     "data": {
      "text/plain": [
       "(1600, 5)"
      ]
     },
     "execution_count": 9,
     "metadata": {},
     "output_type": "execute_result"
    }
   ],
   "source": [
    "df2k = pd.concat([df, df_2k], axis=0, ignore_index=True)\n",
    "df2k.shape"
   ]
  },
  {
   "cell_type": "markdown",
   "id": "744b5f33",
   "metadata": {},
   "source": [
    "Data Preprocessing"
   ]
  },
  {
   "cell_type": "code",
   "execution_count": 10,
   "id": "27a16eaa-2090-4a28-8113-00e41d3c8960",
   "metadata": {},
   "outputs": [
    {
     "data": {
      "text/html": [
       "<div>\n",
       "<style scoped>\n",
       "    .dataframe tbody tr th:only-of-type {\n",
       "        vertical-align: middle;\n",
       "    }\n",
       "\n",
       "    .dataframe tbody tr th {\n",
       "        vertical-align: top;\n",
       "    }\n",
       "\n",
       "    .dataframe thead th {\n",
       "        text-align: right;\n",
       "    }\n",
       "</style>\n",
       "<table border=\"1\" class=\"dataframe\">\n",
       "  <thead>\n",
       "    <tr style=\"text-align: right;\">\n",
       "      <th></th>\n",
       "      <th>Prev_Length</th>\n",
       "      <th>Match_Score</th>\n",
       "      <th>Tile_Size</th>\n",
       "      <th>Prev_Type</th>\n",
       "      <th>Browse_Time</th>\n",
       "    </tr>\n",
       "  </thead>\n",
       "  <tbody>\n",
       "    <tr>\n",
       "      <th>0</th>\n",
       "      <td>75</td>\n",
       "      <td>95</td>\n",
       "      <td>0.2</td>\n",
       "      <td>TT</td>\n",
       "      <td>14.822873</td>\n",
       "    </tr>\n",
       "    <tr>\n",
       "      <th>1</th>\n",
       "      <td>75</td>\n",
       "      <td>95</td>\n",
       "      <td>0.5</td>\n",
       "      <td>TT</td>\n",
       "      <td>13.416156</td>\n",
       "    </tr>\n",
       "    <tr>\n",
       "      <th>2</th>\n",
       "      <td>75</td>\n",
       "      <td>50</td>\n",
       "      <td>0.2</td>\n",
       "      <td>TT</td>\n",
       "      <td>15.881251</td>\n",
       "    </tr>\n",
       "    <tr>\n",
       "      <th>3</th>\n",
       "      <td>40</td>\n",
       "      <td>95</td>\n",
       "      <td>0.2</td>\n",
       "      <td>TT</td>\n",
       "      <td>10.952238</td>\n",
       "    </tr>\n",
       "    <tr>\n",
       "      <th>4</th>\n",
       "      <td>75</td>\n",
       "      <td>95</td>\n",
       "      <td>0.2</td>\n",
       "      <td>AC</td>\n",
       "      <td>20.825888</td>\n",
       "    </tr>\n",
       "  </tbody>\n",
       "</table>\n",
       "</div>"
      ],
      "text/plain": [
       "   Prev_Length  Match_Score  Tile_Size Prev_Type  Browse_Time\n",
       "0           75           95        0.2        TT    14.822873\n",
       "1           75           95        0.5        TT    13.416156\n",
       "2           75           50        0.2        TT    15.881251\n",
       "3           40           95        0.2        TT    10.952238\n",
       "4           75           95        0.2        AC    20.825888"
      ]
     },
     "execution_count": 10,
     "metadata": {},
     "output_type": "execute_result"
    }
   ],
   "source": [
    "df2k.rename(lambda x: x.replace('.', '_'), axis='columns', inplace=True)\n",
    "df2k.head()"
   ]
  },
  {
   "cell_type": "markdown",
   "id": "d24336ef",
   "metadata": {},
   "source": [
    "# 2^k test"
   ]
  },
  {
   "cell_type": "code",
   "execution_count": 11,
   "id": "ab4a1347-d6fb-41bb-827c-00356517518c",
   "metadata": {},
   "outputs": [
    {
     "data": {
      "text/html": [
       "<table class=\"simpletable\">\n",
       "<caption>OLS Regression Results</caption>\n",
       "<tr>\n",
       "  <th>Dep. Variable:</th>       <td>Browse_Time</td>   <th>  R-squared:         </th> <td>   0.879</td>\n",
       "</tr>\n",
       "<tr>\n",
       "  <th>Model:</th>                   <td>OLS</td>       <th>  Adj. R-squared:    </th> <td>   0.878</td>\n",
       "</tr>\n",
       "<tr>\n",
       "  <th>Method:</th>             <td>Least Squares</td>  <th>  F-statistic:       </th> <td>   767.0</td>\n",
       "</tr>\n",
       "<tr>\n",
       "  <th>Date:</th>             <td>Sat, 17 Feb 2024</td> <th>  Prob (F-statistic):</th>  <td>  0.00</td> \n",
       "</tr>\n",
       "<tr>\n",
       "  <th>Time:</th>                 <td>15:45:50</td>     <th>  Log-Likelihood:    </th> <td> -2271.5</td>\n",
       "</tr>\n",
       "<tr>\n",
       "  <th>No. Observations:</th>      <td>  1600</td>      <th>  AIC:               </th> <td>   4575.</td>\n",
       "</tr>\n",
       "<tr>\n",
       "  <th>Df Residuals:</th>          <td>  1584</td>      <th>  BIC:               </th> <td>   4661.</td>\n",
       "</tr>\n",
       "<tr>\n",
       "  <th>Df Model:</th>              <td>    15</td>      <th>                     </th>     <td> </td>   \n",
       "</tr>\n",
       "<tr>\n",
       "  <th>Covariance Type:</th>      <td>nonrobust</td>    <th>                     </th>     <td> </td>   \n",
       "</tr>\n",
       "</table>\n",
       "<table class=\"simpletable\">\n",
       "<tr>\n",
       "                                          <td></td>                                            <th>coef</th>     <th>std err</th>      <th>t</th>      <th>P>|t|</th>  <th>[0.025</th>    <th>0.975]</th>  \n",
       "</tr>\n",
       "<tr>\n",
       "  <th>Intercept</th>                                                                        <td>   22.0915</td> <td>    0.101</td> <td>  219.646</td> <td> 0.000</td> <td>   21.894</td> <td>   22.289</td>\n",
       "</tr>\n",
       "<tr>\n",
       "  <th>C(Prev_Length)[T.75]</th>                                                             <td>   -1.2083</td> <td>    0.142</td> <td>   -8.495</td> <td> 0.000</td> <td>   -1.487</td> <td>   -0.929</td>\n",
       "</tr>\n",
       "<tr>\n",
       "  <th>C(Match_Score)[T.95]</th>                                                             <td>   -3.0810</td> <td>    0.142</td> <td>  -21.661</td> <td> 0.000</td> <td>   -3.360</td> <td>   -2.802</td>\n",
       "</tr>\n",
       "<tr>\n",
       "  <th>C(Tile_Size)[T.0.5]</th>                                                              <td>   -0.1196</td> <td>    0.142</td> <td>   -0.841</td> <td> 0.400</td> <td>   -0.399</td> <td>    0.159</td>\n",
       "</tr>\n",
       "<tr>\n",
       "  <th>C(Prev_Type)[T.TT]</th>                                                               <td>   -4.9458</td> <td>    0.142</td> <td>  -34.771</td> <td> 0.000</td> <td>   -5.225</td> <td>   -4.667</td>\n",
       "</tr>\n",
       "<tr>\n",
       "  <th>C(Prev_Length)[T.75]:C(Match_Score)[T.95]</th>                                        <td>    1.9983</td> <td>    0.201</td> <td>    9.934</td> <td> 0.000</td> <td>    1.604</td> <td>    2.393</td>\n",
       "</tr>\n",
       "<tr>\n",
       "  <th>C(Prev_Length)[T.75]:C(Tile_Size)[T.0.5]</th>                                         <td>    0.2628</td> <td>    0.201</td> <td>    1.307</td> <td> 0.192</td> <td>   -0.132</td> <td>    0.657</td>\n",
       "</tr>\n",
       "<tr>\n",
       "  <th>C(Match_Score)[T.95]:C(Tile_Size)[T.0.5]</th>                                         <td>    0.0955</td> <td>    0.201</td> <td>    0.475</td> <td> 0.635</td> <td>   -0.299</td> <td>    0.490</td>\n",
       "</tr>\n",
       "<tr>\n",
       "  <th>C(Prev_Length)[T.75]:C(Prev_Type)[T.TT]</th>                                          <td>    0.0343</td> <td>    0.201</td> <td>    0.171</td> <td> 0.865</td> <td>   -0.360</td> <td>    0.429</td>\n",
       "</tr>\n",
       "<tr>\n",
       "  <th>C(Match_Score)[T.95]:C(Prev_Type)[T.TT]</th>                                          <td>    0.0265</td> <td>    0.201</td> <td>    0.132</td> <td> 0.895</td> <td>   -0.368</td> <td>    0.421</td>\n",
       "</tr>\n",
       "<tr>\n",
       "  <th>C(Tile_Size)[T.0.5]:C(Prev_Type)[T.TT]</th>                                           <td>    0.2066</td> <td>    0.201</td> <td>    1.027</td> <td> 0.305</td> <td>   -0.188</td> <td>    0.601</td>\n",
       "</tr>\n",
       "<tr>\n",
       "  <th>C(Prev_Length)[T.75]:C(Match_Score)[T.95]:C(Tile_Size)[T.0.5]</th>                    <td>   -0.1889</td> <td>    0.284</td> <td>   -0.664</td> <td> 0.507</td> <td>   -0.747</td> <td>    0.369</td>\n",
       "</tr>\n",
       "<tr>\n",
       "  <th>C(Prev_Length)[T.75]:C(Match_Score)[T.95]:C(Prev_Type)[T.TT]</th>                     <td>   -0.0355</td> <td>    0.284</td> <td>   -0.125</td> <td> 0.901</td> <td>   -0.594</td> <td>    0.522</td>\n",
       "</tr>\n",
       "<tr>\n",
       "  <th>C(Prev_Length)[T.75]:C(Tile_Size)[T.0.5]:C(Prev_Type)[T.TT]</th>                      <td>   -0.2107</td> <td>    0.284</td> <td>   -0.741</td> <td> 0.459</td> <td>   -0.769</td> <td>    0.347</td>\n",
       "</tr>\n",
       "<tr>\n",
       "  <th>C(Match_Score)[T.95]:C(Tile_Size)[T.0.5]:C(Prev_Type)[T.TT]</th>                      <td>   -0.0754</td> <td>    0.284</td> <td>   -0.265</td> <td> 0.791</td> <td>   -0.633</td> <td>    0.483</td>\n",
       "</tr>\n",
       "<tr>\n",
       "  <th>C(Prev_Length)[T.75]:C(Match_Score)[T.95]:C(Tile_Size)[T.0.5]:C(Prev_Type)[T.TT]</th> <td>    0.1062</td> <td>    0.402</td> <td>    0.264</td> <td> 0.792</td> <td>   -0.683</td> <td>    0.895</td>\n",
       "</tr>\n",
       "</table>\n",
       "<table class=\"simpletable\">\n",
       "<tr>\n",
       "  <th>Omnibus:</th>       <td> 2.380</td> <th>  Durbin-Watson:     </th> <td>   2.009</td>\n",
       "</tr>\n",
       "<tr>\n",
       "  <th>Prob(Omnibus):</th> <td> 0.304</td> <th>  Jarque-Bera (JB):  </th> <td>   2.367</td>\n",
       "</tr>\n",
       "<tr>\n",
       "  <th>Skew:</th>          <td>-0.049</td> <th>  Prob(JB):          </th> <td>   0.306</td>\n",
       "</tr>\n",
       "<tr>\n",
       "  <th>Kurtosis:</th>      <td> 3.161</td> <th>  Cond. No.          </th> <td>    47.0</td>\n",
       "</tr>\n",
       "</table><br/><br/>Notes:<br/>[1] Standard Errors assume that the covariance matrix of the errors is correctly specified."
      ],
      "text/latex": [
       "\\begin{center}\n",
       "\\begin{tabular}{lclc}\n",
       "\\toprule\n",
       "\\textbf{Dep. Variable:}                                                                       &   Browse\\_Time   & \\textbf{  R-squared:         } &     0.879   \\\\\n",
       "\\textbf{Model:}                                                                               &       OLS        & \\textbf{  Adj. R-squared:    } &     0.878   \\\\\n",
       "\\textbf{Method:}                                                                              &  Least Squares   & \\textbf{  F-statistic:       } &     767.0   \\\\\n",
       "\\textbf{Date:}                                                                                & Sat, 17 Feb 2024 & \\textbf{  Prob (F-statistic):} &     0.00    \\\\\n",
       "\\textbf{Time:}                                                                                &     15:45:50     & \\textbf{  Log-Likelihood:    } &   -2271.5   \\\\\n",
       "\\textbf{No. Observations:}                                                                    &        1600      & \\textbf{  AIC:               } &     4575.   \\\\\n",
       "\\textbf{Df Residuals:}                                                                        &        1584      & \\textbf{  BIC:               } &     4661.   \\\\\n",
       "\\textbf{Df Model:}                                                                            &          15      & \\textbf{                     } &             \\\\\n",
       "\\textbf{Covariance Type:}                                                                     &    nonrobust     & \\textbf{                     } &             \\\\\n",
       "\\bottomrule\n",
       "\\end{tabular}\n",
       "\\begin{tabular}{lcccccc}\n",
       "                                                                                              & \\textbf{coef} & \\textbf{std err} & \\textbf{t} & \\textbf{P$> |$t$|$} & \\textbf{[0.025} & \\textbf{0.975]}  \\\\\n",
       "\\midrule\n",
       "\\textbf{Intercept}                                                                            &      22.0915  &        0.101     &   219.646  &         0.000        &       21.894    &       22.289     \\\\\n",
       "\\textbf{C(Prev\\_Length)[T.75]}                                                                &      -1.2083  &        0.142     &    -8.495  &         0.000        &       -1.487    &       -0.929     \\\\\n",
       "\\textbf{C(Match\\_Score)[T.95]}                                                                &      -3.0810  &        0.142     &   -21.661  &         0.000        &       -3.360    &       -2.802     \\\\\n",
       "\\textbf{C(Tile\\_Size)[T.0.5]}                                                                 &      -0.1196  &        0.142     &    -0.841  &         0.400        &       -0.399    &        0.159     \\\\\n",
       "\\textbf{C(Prev\\_Type)[T.TT]}                                                                  &      -4.9458  &        0.142     &   -34.771  &         0.000        &       -5.225    &       -4.667     \\\\\n",
       "\\textbf{C(Prev\\_Length)[T.75]:C(Match\\_Score)[T.95]}                                          &       1.9983  &        0.201     &     9.934  &         0.000        &        1.604    &        2.393     \\\\\n",
       "\\textbf{C(Prev\\_Length)[T.75]:C(Tile\\_Size)[T.0.5]}                                           &       0.2628  &        0.201     &     1.307  &         0.192        &       -0.132    &        0.657     \\\\\n",
       "\\textbf{C(Match\\_Score)[T.95]:C(Tile\\_Size)[T.0.5]}                                           &       0.0955  &        0.201     &     0.475  &         0.635        &       -0.299    &        0.490     \\\\\n",
       "\\textbf{C(Prev\\_Length)[T.75]:C(Prev\\_Type)[T.TT]}                                            &       0.0343  &        0.201     &     0.171  &         0.865        &       -0.360    &        0.429     \\\\\n",
       "\\textbf{C(Match\\_Score)[T.95]:C(Prev\\_Type)[T.TT]}                                            &       0.0265  &        0.201     &     0.132  &         0.895        &       -0.368    &        0.421     \\\\\n",
       "\\textbf{C(Tile\\_Size)[T.0.5]:C(Prev\\_Type)[T.TT]}                                             &       0.2066  &        0.201     &     1.027  &         0.305        &       -0.188    &        0.601     \\\\\n",
       "\\textbf{C(Prev\\_Length)[T.75]:C(Match\\_Score)[T.95]:C(Tile\\_Size)[T.0.5]}                     &      -0.1889  &        0.284     &    -0.664  &         0.507        &       -0.747    &        0.369     \\\\\n",
       "\\textbf{C(Prev\\_Length)[T.75]:C(Match\\_Score)[T.95]:C(Prev\\_Type)[T.TT]}                      &      -0.0355  &        0.284     &    -0.125  &         0.901        &       -0.594    &        0.522     \\\\\n",
       "\\textbf{C(Prev\\_Length)[T.75]:C(Tile\\_Size)[T.0.5]:C(Prev\\_Type)[T.TT]}                       &      -0.2107  &        0.284     &    -0.741  &         0.459        &       -0.769    &        0.347     \\\\\n",
       "\\textbf{C(Match\\_Score)[T.95]:C(Tile\\_Size)[T.0.5]:C(Prev\\_Type)[T.TT]}                       &      -0.0754  &        0.284     &    -0.265  &         0.791        &       -0.633    &        0.483     \\\\\n",
       "\\textbf{C(Prev\\_Length)[T.75]:C(Match\\_Score)[T.95]:C(Tile\\_Size)[T.0.5]:C(Prev\\_Type)[T.TT]} &       0.1062  &        0.402     &     0.264  &         0.792        &       -0.683    &        0.895     \\\\\n",
       "\\bottomrule\n",
       "\\end{tabular}\n",
       "\\begin{tabular}{lclc}\n",
       "\\textbf{Omnibus:}       &  2.380 & \\textbf{  Durbin-Watson:     } &    2.009  \\\\\n",
       "\\textbf{Prob(Omnibus):} &  0.304 & \\textbf{  Jarque-Bera (JB):  } &    2.367  \\\\\n",
       "\\textbf{Skew:}          & -0.049 & \\textbf{  Prob(JB):          } &    0.306  \\\\\n",
       "\\textbf{Kurtosis:}      &  3.161 & \\textbf{  Cond. No.          } &     47.0  \\\\\n",
       "\\bottomrule\n",
       "\\end{tabular}\n",
       "%\\caption{OLS Regression Results}\n",
       "\\end{center}\n",
       "\n",
       "Notes: \\newline\n",
       " [1] Standard Errors assume that the covariance matrix of the errors is correctly specified."
      ],
      "text/plain": [
       "<class 'statsmodels.iolib.summary.Summary'>\n",
       "\"\"\"\n",
       "                            OLS Regression Results                            \n",
       "==============================================================================\n",
       "Dep. Variable:            Browse_Time   R-squared:                       0.879\n",
       "Model:                            OLS   Adj. R-squared:                  0.878\n",
       "Method:                 Least Squares   F-statistic:                     767.0\n",
       "Date:                Sat, 17 Feb 2024   Prob (F-statistic):               0.00\n",
       "Time:                        15:45:50   Log-Likelihood:                -2271.5\n",
       "No. Observations:                1600   AIC:                             4575.\n",
       "Df Residuals:                    1584   BIC:                             4661.\n",
       "Df Model:                          15                                         \n",
       "Covariance Type:            nonrobust                                         \n",
       "====================================================================================================================================================\n",
       "                                                                                       coef    std err          t      P>|t|      [0.025      0.975]\n",
       "----------------------------------------------------------------------------------------------------------------------------------------------------\n",
       "Intercept                                                                           22.0915      0.101    219.646      0.000      21.894      22.289\n",
       "C(Prev_Length)[T.75]                                                                -1.2083      0.142     -8.495      0.000      -1.487      -0.929\n",
       "C(Match_Score)[T.95]                                                                -3.0810      0.142    -21.661      0.000      -3.360      -2.802\n",
       "C(Tile_Size)[T.0.5]                                                                 -0.1196      0.142     -0.841      0.400      -0.399       0.159\n",
       "C(Prev_Type)[T.TT]                                                                  -4.9458      0.142    -34.771      0.000      -5.225      -4.667\n",
       "C(Prev_Length)[T.75]:C(Match_Score)[T.95]                                            1.9983      0.201      9.934      0.000       1.604       2.393\n",
       "C(Prev_Length)[T.75]:C(Tile_Size)[T.0.5]                                             0.2628      0.201      1.307      0.192      -0.132       0.657\n",
       "C(Match_Score)[T.95]:C(Tile_Size)[T.0.5]                                             0.0955      0.201      0.475      0.635      -0.299       0.490\n",
       "C(Prev_Length)[T.75]:C(Prev_Type)[T.TT]                                              0.0343      0.201      0.171      0.865      -0.360       0.429\n",
       "C(Match_Score)[T.95]:C(Prev_Type)[T.TT]                                              0.0265      0.201      0.132      0.895      -0.368       0.421\n",
       "C(Tile_Size)[T.0.5]:C(Prev_Type)[T.TT]                                               0.2066      0.201      1.027      0.305      -0.188       0.601\n",
       "C(Prev_Length)[T.75]:C(Match_Score)[T.95]:C(Tile_Size)[T.0.5]                       -0.1889      0.284     -0.664      0.507      -0.747       0.369\n",
       "C(Prev_Length)[T.75]:C(Match_Score)[T.95]:C(Prev_Type)[T.TT]                        -0.0355      0.284     -0.125      0.901      -0.594       0.522\n",
       "C(Prev_Length)[T.75]:C(Tile_Size)[T.0.5]:C(Prev_Type)[T.TT]                         -0.2107      0.284     -0.741      0.459      -0.769       0.347\n",
       "C(Match_Score)[T.95]:C(Tile_Size)[T.0.5]:C(Prev_Type)[T.TT]                         -0.0754      0.284     -0.265      0.791      -0.633       0.483\n",
       "C(Prev_Length)[T.75]:C(Match_Score)[T.95]:C(Tile_Size)[T.0.5]:C(Prev_Type)[T.TT]     0.1062      0.402      0.264      0.792      -0.683       0.895\n",
       "==============================================================================\n",
       "Omnibus:                        2.380   Durbin-Watson:                   2.009\n",
       "Prob(Omnibus):                  0.304   Jarque-Bera (JB):                2.367\n",
       "Skew:                          -0.049   Prob(JB):                        0.306\n",
       "Kurtosis:                       3.161   Cond. No.                         47.0\n",
       "==============================================================================\n",
       "\n",
       "Notes:\n",
       "[1] Standard Errors assume that the covariance matrix of the errors is correctly specified.\n",
       "\"\"\""
      ]
     },
     "execution_count": 11,
     "metadata": {},
     "output_type": "execute_result"
    }
   ],
   "source": [
    "model = smf.ols('Browse_Time ~ C(Prev_Length) * C(Match_Score) * C(Tile_Size)* C(Prev_Type)', data = df2k).fit()\n",
    "model.summary()"
   ]
  },
  {
   "cell_type": "markdown",
   "id": "550cb007",
   "metadata": {},
   "source": [
    "# Main effect plots"
   ]
  },
  {
   "cell_type": "code",
   "execution_count": 12,
   "id": "57524b95-2888-4177-8d4b-b7c85ba2057b",
   "metadata": {},
   "outputs": [
    {
     "data": {
      "image/png": "[encoded data removed]",
      "text/plain": [
       "<Figure size 640x480 with 1 Axes>"
      ]
     },
     "metadata": {},
     "output_type": "display_data"
    }
   ],
   "source": [
    "# Main effect: Prev_Length\n",
    "pl75 = df2k.groupby(['Prev_Length']).get_group(75)['Browse_Time'].mean()\n",
    "pl40 = df2k.groupby(['Prev_Length']).get_group(40)['Browse_Time'].mean()\n",
    "plt.figure()\n",
    "plt.scatter(x = [1,2], y = [pl40,pl75], c = \"black\")\n",
    "plt.ylim(15,21)\n",
    "plt.ylabel(\"Browse_Time\")\n",
    "plt.xlabel(\"Prev Length\")\n",
    "plt.title(\"Main Effect of Prev Length\")\n",
    "plt.xticks(ticks = [1,2], labels = [ \"40\",'75'])\n",
    "plt.plot([1,2], [pl40, pl75], c = \"black\")\n",
    "plt.show()"
   ]
  },
  {
   "cell_type": "code",
   "execution_count": 13,
   "id": "772b276b-4f93-41dc-87f4-8cca15189dac",
   "metadata": {},
   "outputs": [
    {
     "data": {
      "text/plain": [
       "(18.09099308533613, 17.934920805821175)"
      ]
     },
     "execution_count": 13,
     "metadata": {},
     "output_type": "execute_result"
    }
   ],
   "source": [
    "pl40, pl75"
   ]
  },
  {
   "cell_type": "code",
   "execution_count": 14,
   "id": "98205d60-69c2-4a39-bb7c-23a29a6e2e2e",
   "metadata": {},
   "outputs": [
    {
     "data": {
      "image/png": "[encoded data removed]",
      "text/plain": [
       "<Figure size 640x480 with 1 Axes>"
      ]
     },
     "metadata": {},
     "output_type": "display_data"
    }
   ],
   "source": [
    "# Main effect: Prev_Type\n",
    "pttt = df2k.groupby(['Prev_Type']).get_group('TT')['Browse_Time'].mean()\n",
    "ptac = df2k.groupby(['Prev_Type']).get_group('AC')['Browse_Time'].mean()\n",
    "plt.figure()\n",
    "plt.scatter(x = [1,2], y = [pttt, ptac], c = \"black\")\n",
    "plt.ylim(15,21)\n",
    "plt.ylabel(\"Browse_Time\")\n",
    "plt.xlabel(\"Prev Type\")\n",
    "plt.title(\"Main Effect of Prev Tpye\")\n",
    "plt.xticks(ticks = [1,2], labels = ['TT', \"AC\"])\n",
    "plt.plot([1,2], [pttt, ptac], c = \"black\")\n",
    "plt.show()"
   ]
  },
  {
   "cell_type": "code",
   "execution_count": 15,
   "id": "649d4bad-4be2-4dc9-959f-829b2e53bb75",
   "metadata": {},
   "outputs": [
    {
     "data": {
      "image/png": "[encoded data removed]",
      "text/plain": [
       "<Figure size 640x480 with 1 Axes>"
      ]
     },
     "metadata": {},
     "output_type": "display_data"
    }
   ],
   "source": [
    "# Main effect: Match_Score\n",
    "ms95 = df2k.groupby(['Match_Score']).get_group(95)['Browse_Time'].mean()\n",
    "ms50 = df2k.groupby(['Match_Score']).get_group(50)['Browse_Time'].mean()\n",
    "plt.figure()\n",
    "plt.scatter(x = [1,2], y = [ms50, ms95], c = \"black\")\n",
    "plt.ylim(15,21)\n",
    "plt.ylabel(\"Browse_Time\")\n",
    "plt.xlabel(\"Match Score\")\n",
    "plt.title(\"Main Effect of Match Score\")\n",
    "plt.xticks(ticks = [1,2], labels = ['50', \"95\"])\n",
    "plt.plot([1,2], [ms50, ms95], c = \"black\")\n",
    "plt.show()"
   ]
  },
  {
   "cell_type": "code",
   "execution_count": 16,
   "id": "cf911e66-4583-4dc5-bc5d-96a19c4e7caf",
   "metadata": {},
   "outputs": [
    {
     "data": {
      "image/png": "[encoded data removed]",
      "text/plain": [
       "<Figure size 640x480 with 1 Axes>"
      ]
     },
     "metadata": {},
     "output_type": "display_data"
    }
   ],
   "source": [
    "# Main effect: Tile_Size\n",
    "ts2 = df2k.groupby(['Tile_Size']).get_group(0.2)['Browse_Time'].mean()\n",
    "ts5 = df2k.groupby(['Tile_Size']).get_group(0.5)['Browse_Time'].mean()\n",
    "plt.figure()\n",
    "plt.scatter(x = [1,2], y = [ts2, ts5], c = \"black\")\n",
    "plt.ylim(15,21)\n",
    "plt.ylabel(\"Browse_Time\")\n",
    "plt.xlabel(\"Tile_Size\")\n",
    "plt.title(\"Main Effect of Tile_Size\")\n",
    "plt.xticks(ticks = [1,2], labels = ['0.2', \"0.5\"])\n",
    "plt.plot([1,2], [ts2, ts5], c = \"black\")\n",
    "plt.show()"
   ]
  },
  {
   "cell_type": "markdown",
   "id": "044f5899",
   "metadata": {},
   "source": [
    "# Conclusion from the two-level factor test\n",
    "Prev. Length, Prev. Type and Match Score have significant main effects, while Tile Size is not a significant factor. Prev. Length and Match Score is the only significant interaction."
   ]
  },
  {
   "cell_type": "markdown",
   "id": "f968266a",
   "metadata": {},
   "source": [
    "# Pairwise comparison tests are conducted through the following process:\n",
    "\n",
    "1. Variance equality is determined through an F-test. If the test indicates equal variances, a t-test is employed.\n",
    "2. A Student's t-test is then conducted for the null hypothesis."
   ]
  },
  {
   "cell_type": "markdown",
   "id": "95c4483b-30aa-492f-937e-7a1182435ca7",
   "metadata": {},
   "source": [
    "# Prev.type\n",
    "F-test"
   ]
  },
  {
   "cell_type": "code",
   "execution_count": 17,
   "id": "e3da7183",
   "metadata": {},
   "outputs": [
    {
     "data": {
      "text/plain": [
       "(14.880046585321873, 19.800502453571752)"
      ]
     },
     "execution_count": 17,
     "metadata": {},
     "output_type": "execute_result"
    }
   ],
   "source": [
    "# Prev.type\n",
    "pttt = df.groupby(['Prev.Length','Match.Score','Tile.Size','Prev.Type']).\\\n",
    "get_group((75,95,0.2,'TT'))['Browse.Time']\n",
    "ptac = df.groupby(['Prev.Length','Match.Score','Tile.Size','Prev.Type']).\\\n",
    "get_group((75,95,0.2,'AC'))['Browse.Time']\n",
    "pttt.mean(),ptac.mean()"
   ]
  },
  {
   "cell_type": "code",
   "execution_count": 18,
   "id": "a222669f",
   "metadata": {},
   "outputs": [
    {
     "name": "stdout",
     "output_type": "stream",
     "text": [
      "t = 0.8963542038202618\n",
      "p-value = 0.5872345350126758\n"
     ]
    }
   ],
   "source": [
    "t = np.var(pttt, ddof = 1)/np.var(ptac, ddof = 1)\n",
    "print(\"t =\", t)\n",
    "dfn= 99\n",
    "dfd =99\n",
    "pvv = stats.f.cdf(t, dfn=99, dfd=99) + 1 - stats.f.cdf(1/t, dfn=99, dfd=99)\n",
    "print(\"p-value =\", pvv)"
   ]
  },
  {
   "cell_type": "markdown",
   "id": "36a31a4e",
   "metadata": {},
   "source": [
    "t-test"
   ]
  },
  {
   "cell_type": "markdown",
   "id": "1dcdad3b",
   "metadata": {},
   "source": [
    "This p-value so large that we do not reject $H_0:\\sigma_1^2=\\sigma_2^2$, and so we will use Student's t-test to test hypotheses concerning $\\mu_1$ and $\\mu_2$. Let us test  $$H_0:\\mu_1\\geq\\mu_2 \\text{ vs. }H_A:\\mu_1<\\mu_2$$"
   ]
  },
  {
   "cell_type": "code",
   "execution_count": 19,
   "id": "75f3afce",
   "metadata": {},
   "outputs": [
    {
     "name": "stdout",
     "output_type": "stream",
     "text": [
      "t = -35.90561441093055\n",
      "p-value = 6.132336479456445e-89\n"
     ]
    }
   ],
   "source": [
    "t, pv = stats.ttest_ind(pttt, ptac, equal_var = True, alternative = 'less')\n",
    "print(\"t =\", t)\n",
    "print(\"p-value =\", pv)"
   ]
  },
  {
   "cell_type": "markdown",
   "id": "f5877068",
   "metadata": {},
   "source": [
    "This is an extremely small p-value, reject $$H_0:\\mu_1\\geq\\mu_2 \\text{ vs. }H_A:\\mu_1<\\mu_2$$, Prev.type=TT is better"
   ]
  },
  {
   "cell_type": "markdown",
   "id": "af2a735e",
   "metadata": {},
   "source": [
    "# repeat the same process for each pair of variables "
   ]
  },
  {
   "cell_type": "code",
   "execution_count": 51,
   "id": "bc992840-8198-4b66-b3e9-92ddc2bdab85",
   "metadata": {},
   "outputs": [],
   "source": [
    "df = pd.read_csv('../test2.csv')"
   ]
  },
  {
   "cell_type": "markdown",
   "id": "551ab7ec-07a4-4dd7-ab4e-7e3056f2b210",
   "metadata": {},
   "source": [
    "# Prev.Length"
   ]
  },
  {
   "cell_type": "code",
   "execution_count": 23,
   "id": "e224dfcb-1fbf-46ac-909f-d6a8a3f655c9",
   "metadata": {},
   "outputs": [],
   "source": [
    "pl30 = df.groupby(['Prev.Length','Match.Score','Tile.Size','Prev.Type']).\\\n",
    "get_group((30,95,0.2,'TT'))['Browse.Time']\n",
    "pl50 = df.groupby(['Prev.Length','Match.Score','Tile.Size','Prev.Type']).\\\n",
    "get_group((50,95,0.2,'TT'))['Browse.Time']\n",
    "pl60 = df.groupby(['Prev.Length','Match.Score','Tile.Size','Prev.Type']).\\\n",
    "get_group((60,95,0.2,'TT'))['Browse.Time']"
   ]
  },
  {
   "cell_type": "code",
   "execution_count": 24,
   "id": "153f155a-4e90-431d-a575-cb4b2491a447",
   "metadata": {},
   "outputs": [
    {
     "data": {
      "text/plain": [
       "(16.120054752107453, 13.72350936236261, 13.487725982737645)"
      ]
     },
     "execution_count": 24,
     "metadata": {},
     "output_type": "execute_result"
    }
   ],
   "source": [
    "pl30.mean(), pl50.mean(), pl60.mean()"
   ]
  },
  {
   "cell_type": "code",
   "execution_count": 25,
   "id": "c7892842-4087-44f4-b79c-492a3c26fad6",
   "metadata": {},
   "outputs": [
    {
     "name": "stdout",
     "output_type": "stream",
     "text": [
      "t = 0.7674372722171143\n",
      "p-value = 0.18964418618134504\n"
     ]
    }
   ],
   "source": [
    "# pl30 and pl50\n",
    "t = np.var(pl30, ddof = 1)/np.var(pl50, ddof = 1)\n",
    "print(\"t =\", t)\n",
    "dfn= 99\n",
    "dfd =99\n",
    "pvv = stats.f.cdf(t, dfn=99, dfd=99) + 1 - stats.f.cdf(1/t, dfn=99, dfd=99)\n",
    "print(\"p-value =\", pvv)"
   ]
  },
  {
   "cell_type": "markdown",
   "id": "f095feda-73f3-4eb8-b393-bc93719b91d2",
   "metadata": {},
   "source": [
    "This p-value so large that we do not reject $H_0:\\sigma_1^2=\\sigma_2^2$, and so we will use Student's t-test to test hypotheses concerning $\\mu_1$ and $\\mu_2$. Let us first test $$H_0:\\mu_1=\\mu_2 \\text{ vs. }H_A:\\mu_1\\neq\\mu_2$$"
   ]
  },
  {
   "cell_type": "code",
   "execution_count": 26,
   "id": "c6f3f6a6-b8bf-4980-af6f-8b98b8c1055b",
   "metadata": {
    "tags": []
   },
   "outputs": [
    {
     "name": "stdout",
     "output_type": "stream",
     "text": [
      "t = 17.44165023161565\n",
      "p-value = 6.960118105428366e-42\n"
     ]
    }
   ],
   "source": [
    "t, pv = stats.ttest_ind(pl30, pl50, equal_var = True, alternative = 'two-sided')\n",
    "print(\"t =\", t)\n",
    "print(\"p-value =\", pv)"
   ]
  },
  {
   "cell_type": "markdown",
   "id": "86067307-e346-4c1f-b92e-5f24275f6a6f",
   "metadata": {},
   "source": [
    "This is an extremely small p-value, providing very strong evidence against the null hypothesis above. This suggests that there is a significant difference in average engagement between the two ad frequency conditions.\n",
    "\n",
    "Next let us test $$H_0:\\mu_1\\leq\\mu_2 \\text{ vs. }H_A:\\mu_1>\\mu_2$$"
   ]
  },
  {
   "cell_type": "code",
   "execution_count": 27,
   "id": "fa1bda11-26aa-453e-a2d7-e5a09f24f15d",
   "metadata": {},
   "outputs": [
    {
     "name": "stdout",
     "output_type": "stream",
     "text": [
      "t = 17.44165023161565\n",
      "p-value = 3.480059052714183e-42\n"
     ]
    }
   ],
   "source": [
    "t, pv = stats.ttest_ind(pl30, pl50, equal_var = True, alternative = 'greater')\n",
    "print(\"t =\", t)\n",
    "print(\"p-value =\", pv)"
   ]
  },
  {
   "cell_type": "markdown",
   "id": "b07e9d17-512a-473d-bdd8-1694967bf118",
   "metadata": {},
   "source": [
    "This is an extremely small p-value, reject Ho. pl30 > pl50, pl50 is better"
   ]
  },
  {
   "cell_type": "code",
   "execution_count": 28,
   "id": "195c3ccf-0e93-4955-bc39-118c5f07f640",
   "metadata": {},
   "outputs": [
    {
     "name": "stdout",
     "output_type": "stream",
     "text": [
      "t = 0.7075219161128738\n",
      "p-value = 0.08677170829921688\n"
     ]
    }
   ],
   "source": [
    "# pl30 and pl60\n",
    "t = np.var(pl30, ddof = 1)/np.var(pl60, ddof = 1)\n",
    "print(\"t =\", t)\n",
    "dfn= 99\n",
    "dfd =99\n",
    "pvv = stats.f.cdf(t, dfn=99, dfd=99) + 1 - stats.f.cdf(1/t, dfn=99, dfd=99)\n",
    "print(\"p-value =\", pvv)"
   ]
  },
  {
   "cell_type": "markdown",
   "id": "0ec485ae-5982-4e30-a028-ce5aac95325e",
   "metadata": {},
   "source": [
    "the variance is the same"
   ]
  },
  {
   "cell_type": "code",
   "execution_count": 29,
   "id": "89beabbe-9cf3-43c2-8468-f8e89835592f",
   "metadata": {},
   "outputs": [
    {
     "name": "stdout",
     "output_type": "stream",
     "text": [
      "t = 18.714550938913078\n",
      "p-value = 1.1516863784659831e-45\n"
     ]
    }
   ],
   "source": [
    "t, pv = stats.ttest_ind(pl30, pl60, equal_var = True, alternative = 'two-sided')\n",
    "print(\"t =\", t)\n",
    "print(\"p-value =\", pv)"
   ]
  },
  {
   "cell_type": "markdown",
   "id": "eae79e8e-126d-4b30-91ff-4427483335db",
   "metadata": {},
   "source": [
    "test $$H_0:\\mu_1\\leq\\mu_2 \\text{ vs. }H_A:\\mu_1>\\mu_2$$"
   ]
  },
  {
   "cell_type": "code",
   "execution_count": 30,
   "id": "02699b8f-3db5-413b-a758-dac1c845e4b9",
   "metadata": {},
   "outputs": [
    {
     "name": "stdout",
     "output_type": "stream",
     "text": [
      "t = 18.714550938913078\n",
      "p-value = 5.758431892329916e-46\n"
     ]
    }
   ],
   "source": [
    "t, pv = stats.ttest_ind(pl30, pl60, equal_var = True, alternative = 'greater')\n",
    "print(\"t =\", t)\n",
    "print(\"p-value =\", pv)"
   ]
  },
  {
   "cell_type": "markdown",
   "id": "82407906-0f2c-4f45-9539-b59fa79e6f26",
   "metadata": {},
   "source": [
    "This is an extremely small p-value, reject Ho. pl30 > pl50, pl60 is better"
   ]
  },
  {
   "cell_type": "code",
   "execution_count": 31,
   "id": "a96fd7a3-9ad8-4bca-bab2-852fc660bc3e",
   "metadata": {},
   "outputs": [
    {
     "name": "stdout",
     "output_type": "stream",
     "text": [
      "t = 0.921928008616071\n",
      "p-value = 0.6867068668861539\n"
     ]
    }
   ],
   "source": [
    "# pl50 and pl60\n",
    "t = np.var(pl50, ddof = 1)/np.var(pl60, ddof = 1)\n",
    "print(\"t =\", t)\n",
    "dfn= 99\n",
    "dfd =99\n",
    "pvv = stats.f.cdf(t, dfn=99, dfd=99) + 1 - stats.f.cdf(1/t, dfn=99, dfd=99)\n",
    "print(\"p-value =\", pvv)"
   ]
  },
  {
   "cell_type": "markdown",
   "id": "66889539-0e01-453f-baa2-3e33bec41186",
   "metadata": {},
   "source": [
    "test $$H_0:\\mu_1=\\mu_2 \\text{ vs. }H_A:\\mu_1\\neq\\mu_2$$"
   ]
  },
  {
   "cell_type": "code",
   "execution_count": 32,
   "id": "122a29bc-1cf3-4e25-b0d2-4e97ee5394c1",
   "metadata": {},
   "outputs": [
    {
     "name": "stdout",
     "output_type": "stream",
     "text": [
      "t = 1.5800362613864207\n",
      "p-value = 0.11569472746665632\n"
     ]
    }
   ],
   "source": [
    "t, pv = stats.ttest_ind(pl50, pl60, equal_var = True, alternative = 'two-sided')\n",
    "print(\"t =\", t)\n",
    "print(\"p-value =\", pv)"
   ]
  },
  {
   "cell_type": "markdown",
   "id": "33771cc4-521e-48ea-aa50-fff9da032e29",
   "metadata": {},
   "source": [
    "p-value > 5% , we fail to reject the null hypothesis above. We conclude that pl50 is not significant differ than pl60"
   ]
  },
  {
   "cell_type": "code",
   "execution_count": 37,
   "id": "f5c19e65-7fb2-444e-9d18-089a57d78600",
   "metadata": {},
   "outputs": [],
   "source": [
    "df3 = pd.read_csv('../test3.csv')"
   ]
  },
  {
   "cell_type": "code",
   "execution_count": 38,
   "id": "e14994de-b07a-4f2a-9b23-85ec694ebfc3",
   "metadata": {},
   "outputs": [
    {
     "data": {
      "text/plain": [
       "100"
      ]
     },
     "execution_count": 38,
     "metadata": {},
     "output_type": "execute_result"
    }
   ],
   "source": [
    "pl45ms60 = df3.groupby(['Prev.Length','Match.Score','Tile.Size','Prev.Type']).\\\n",
    "get_group((45,60,0.2,'TT'))['Browse.Time']\n",
    "pl55ms60 = df3.groupby(['Prev.Length','Match.Score','Tile.Size','Prev.Type']).\\\n",
    "get_group((55,60,0.2,'TT'))['Browse.Time']\n",
    "pl65ms60 = df3.groupby(['Prev.Length','Match.Score','Tile.Size','Prev.Type']).\\\n",
    "get_group((65,60,0.2,'TT'))['Browse.Time']\n",
    "pl65ms60.count()"
   ]
  },
  {
   "cell_type": "code",
   "execution_count": 39,
   "id": "860dc3cd-718c-40bb-9505-1cc3c9cf96cd",
   "metadata": {},
   "outputs": [
    {
     "data": {
      "text/plain": [
       "(15.365215873632916, 15.671549380900244, 13.963102839093608)"
      ]
     },
     "execution_count": 39,
     "metadata": {},
     "output_type": "execute_result"
    }
   ],
   "source": [
    "pl45ms60.mean(), pl55ms60.mean(), pl65ms60.mean()"
   ]
  },
  {
   "cell_type": "code",
   "execution_count": 40,
   "id": "aff8685f-e36d-4040-9735-50950dfc832b",
   "metadata": {},
   "outputs": [],
   "source": [
    "pl45ms75 = df3.groupby(['Prev.Length','Match.Score','Tile.Size','Prev.Type']).\\\n",
    "get_group((45,75,0.2,'TT'))['Browse.Time']\n",
    "pl55ms75 = df3.groupby(['Prev.Length','Match.Score','Tile.Size','Prev.Type']).\\\n",
    "get_group((55,75,0.2,'TT'))['Browse.Time']\n",
    "pl65ms75 = df3.groupby(['Prev.Length','Match.Score','Tile.Size','Prev.Type']).\\\n",
    "get_group((65,75,0.2,'TT'))['Browse.Time']"
   ]
  },
  {
   "cell_type": "code",
   "execution_count": 41,
   "id": "cb45a094-f0db-4be6-bbc0-1bbf53206375",
   "metadata": {},
   "outputs": [
    {
     "data": {
      "text/plain": [
       "(12.448835247506478, 12.050154152983207, 11.059602149536877)"
      ]
     },
     "execution_count": 41,
     "metadata": {},
     "output_type": "execute_result"
    }
   ],
   "source": [
    "pl45ms75.mean(),pl55ms75.mean(),pl65ms75.mean()"
   ]
  },
  {
   "cell_type": "code",
   "execution_count": 42,
   "id": "54a23238-bf87-4117-95cf-482841998ae3",
   "metadata": {},
   "outputs": [
    {
     "name": "stdout",
     "output_type": "stream",
     "text": [
      "t = 1.3782210905686616\n",
      "p-value = 0.11216917443403844\n"
     ]
    }
   ],
   "source": [
    "# pl45 and pl55\n",
    "t = np.var(pl45ms75, ddof = 1)/np.var(pl55ms75, ddof = 1)\n",
    "print(\"t =\", t)\n",
    "dfn= 99\n",
    "dfd =99\n",
    "p1 = 1- stats.f.cdf(t, dfn=dfn, dfd=dfd)  # P(F >= t)\n",
    "p2 = stats.f.cdf(1/t, dfn=dfn, dfd=dfd)  # P(F <= 1/t)\n",
    "pv = p1+p2\n",
    "print(\"p-value =\", pv)"
   ]
  },
  {
   "cell_type": "markdown",
   "id": "f6a625ef-9073-4eac-a5d6-deb6205f1c1d",
   "metadata": {},
   "source": [
    "This p-value > 5%, we fail to reject H0, pl45 and pl55 is not significantly different."
   ]
  },
  {
   "cell_type": "code",
   "execution_count": 43,
   "id": "0bdf298c-245a-4642-ad77-4bab88591a57",
   "metadata": {},
   "outputs": [
    {
     "name": "stdout",
     "output_type": "stream",
     "text": [
      "t = 1.0141673923980212\n",
      "p-value = 0.9443445022481012\n"
     ]
    }
   ],
   "source": [
    "# pl55 and pl65\n",
    "t = np.var(pl55ms75, ddof = 1)/np.var(pl65ms75, ddof = 1)\n",
    "print(\"t =\", t)\n",
    "dfn= 99\n",
    "dfd =99\n",
    "p1 = 1- stats.f.cdf(t, dfn=dfn, dfd=dfd)  # P(F >= t)\n",
    "p2 = stats.f.cdf(1/t, dfn=dfn, dfd=dfd)  # P(F <= 1/t)\n",
    "pv = p1+p2\n",
    "print(\"p-value =\", pv)"
   ]
  },
  {
   "cell_type": "markdown",
   "id": "8873a16c-07db-4404-991c-c6e4804beda3",
   "metadata": {},
   "source": [
    "This p-value so large that we do not reject $H_0:\\sigma_1^2=\\sigma_2^2$, and so we will use Student's t-test to test hypotheses concerning $\\mu_1$ and $\\mu_2$. Let us first test $$H_0:\\mu_1=\\mu_2 \\text{ vs. }H_A:\\mu_1\\neq\\mu_2$$"
   ]
  },
  {
   "cell_type": "code",
   "execution_count": 44,
   "id": "0b3a0929-8622-45fc-a033-35e0e68046cf",
   "metadata": {},
   "outputs": [
    {
     "name": "stdout",
     "output_type": "stream",
     "text": [
      "t = 7.425511763473042\n",
      "p-value = 3.265664227153031e-12\n"
     ]
    }
   ],
   "source": [
    "t, pv = stats.ttest_ind(pl55ms75, pl65ms75, equal_var = True, alternative = 'two-sided')\n",
    "print(\"t =\", t)\n",
    "print(\"p-value =\", pv)"
   ]
  },
  {
   "cell_type": "markdown",
   "id": "d4f4dc1d-db69-406f-a664-117dd5c59ae8",
   "metadata": {},
   "source": [
    "test $$H_0:\\mu_1\\leq\\mu_2 \\text{ vs. }H_A:\\mu_1>\\mu_2$$"
   ]
  },
  {
   "cell_type": "code",
   "execution_count": 45,
   "id": "0dcf2248-8127-446d-9e06-64747b9b22f3",
   "metadata": {},
   "outputs": [
    {
     "name": "stdout",
     "output_type": "stream",
     "text": [
      "t = 7.425511763473042\n",
      "p-value = 1.6328321135765154e-12\n"
     ]
    }
   ],
   "source": [
    "t, pv = stats.ttest_ind(pl55ms75, pl65ms75, equal_var = True, alternative = 'greater')\n",
    "print(\"t =\", t)\n",
    "print(\"p-value =\", pv)"
   ]
  },
  {
   "cell_type": "markdown",
   "id": "7fb29218-ece0-44ae-ad07-1ce64cccb7ac",
   "metadata": {},
   "source": [
    "This is an extremely small p-value, reject H0, suggesting that the pl55 > pl65 , pl65 is better"
   ]
  },
  {
   "cell_type": "markdown",
   "id": "7f8489a8",
   "metadata": {},
   "source": [
    "# Match Score"
   ]
  },
  {
   "cell_type": "code",
   "execution_count": 67,
   "id": "ccb66f7d",
   "metadata": {},
   "outputs": [
    {
     "data": {
      "text/plain": [
       "(10.277337914267687, 11.281285945343392)"
      ]
     },
     "execution_count": 67,
     "metadata": {},
     "output_type": "execute_result"
    }
   ],
   "source": [
    "ms70 = df.groupby(['Prev.Length','Match.Score','Tile.Size','Prev.Type']).\\\n",
    "get_group((75,70,0.2,'TT'))['Browse.Time']\n",
    "ms83 = df.groupby(['Prev.Length','Match.Score','Tile.Size','Prev.Type']).\\\n",
    "get_group((75,83,0.2,'TT'))['Browse.Time']\n",
    "ms70.mean(),ms83.mean()"
   ]
  },
  {
   "cell_type": "code",
   "execution_count": 70,
   "id": "31914381",
   "metadata": {},
   "outputs": [
    {
     "name": "stdout",
     "output_type": "stream",
     "text": [
      "t = 0.8259292233659876\n",
      "p-value = 1.6570326259451078\n"
     ]
    }
   ],
   "source": [
    "# ms70 and ms83\n",
    "t = np.var(ms70, ddof = 1)/np.var(ms83, ddof = 1)\n",
    "print(\"t =\", t)\n",
    "dfn= 99\n",
    "dfd =99\n",
    "pvv = stats.f.cdf(t, dfn=99, dfd=99) + 1 - stats.f.cdf(1/t, dfn=99, dfd=99)\n",
    "pv = p1+p2\n",
    "print(\"p-value =\", pv)"
   ]
  },
  {
   "cell_type": "markdown",
   "id": "89286c81",
   "metadata": {},
   "source": [
    "test $$H_0:\\mu_1\\geq\\mu_2 \\text{ vs. }H_A:\\mu_1<\\mu_2$$\n"
   ]
  },
  {
   "cell_type": "code",
   "execution_count": 72,
   "id": "e87e935e",
   "metadata": {},
   "outputs": [
    {
     "name": "stdout",
     "output_type": "stream",
     "text": [
      "t = -7.471674040189681\n",
      "p-value = 1.2424623163927064e-12\n"
     ]
    }
   ],
   "source": [
    "t, pv = stats.ttest_ind(ms70, ms83, equal_var = True, alternative = 'less')\n",
    "print(\"t =\", t)\n",
    "print(\"p-value =\", pv)"
   ]
  },
  {
   "cell_type": "markdown",
   "id": "b16c4b76",
   "metadata": {},
   "source": [
    "reject H0, suggesting that the ms70 < ms83 , Match Score = 70 is better"
   ]
  },
  {
   "cell_type": "code",
   "execution_count": 73,
   "id": "3b3f6f92",
   "metadata": {},
   "outputs": [
    {
     "data": {
      "text/plain": [
       "(13.963102839093608, 11.059602149536877)"
      ]
     },
     "execution_count": 73,
     "metadata": {},
     "output_type": "execute_result"
    }
   ],
   "source": [
    "ms60 = df3.groupby(['Prev.Length','Match.Score','Tile.Size','Prev.Type']).\\\n",
    "get_group((65,60,0.2,'TT'))['Browse.Time']\n",
    "ms75 = df3.groupby(['Prev.Length','Match.Score','Tile.Size','Prev.Type']).\\\n",
    "get_group((65,75,0.2,'TT'))['Browse.Time']\n",
    "ms60.mean(),ms75.mean()"
   ]
  },
  {
   "cell_type": "code",
   "execution_count": 74,
   "id": "49c94563",
   "metadata": {},
   "outputs": [
    {
     "name": "stdout",
     "output_type": "stream",
     "text": [
      "t = 1.2380649339494691\n",
      "p-value = 0.2897296441173786\n"
     ]
    }
   ],
   "source": [
    "# ms60 and ms75\n",
    "t = np.var(ms60, ddof = 1)/np.var(ms75, ddof = 1)\n",
    "print(\"t =\", t)\n",
    "dfn= 99\n",
    "dfd =99\n",
    "p1 = 1- stats.f.cdf(t, dfn=dfn, dfd=dfd)  # P(F >= t)\n",
    "p2 = stats.f.cdf(1/t, dfn=dfn, dfd=dfd)  # P(F <= 1/t)\n",
    "pv = p1+p2\n",
    "print(\"p-value =\", pv)"
   ]
  },
  {
   "cell_type": "markdown",
   "id": "4d76c6ea",
   "metadata": {},
   "source": [
    "test $$H_0:\\mu_1\\leq\\mu_2 \\text{ vs. }H_A:\\mu_1>\\mu_2$$"
   ]
  },
  {
   "cell_type": "code",
   "execution_count": 75,
   "id": "4d1fa1be",
   "metadata": {},
   "outputs": [
    {
     "name": "stdout",
     "output_type": "stream",
     "text": [
      "t = 20.64821350853916\n",
      "p-value = 1.43356021543393e-51\n"
     ]
    }
   ],
   "source": [
    "t, pv = stats.ttest_ind(ms60, ms75, equal_var = True, alternative = 'greater')\n",
    "print(\"t =\", t)\n",
    "print(\"p-value =\", pv)"
   ]
  },
  {
   "cell_type": "markdown",
   "id": "b28b42ac",
   "metadata": {},
   "source": [
    "reject H0, suggesting that the ms60 > ms75 , Match Score = 75 is better"
   ]
  },
  {
   "attachments": {},
   "cell_type": "markdown",
   "id": "7afd6ba7",
   "metadata": {},
   "source": [
    "# Conclusion\n",
    "\n",
    "The location of the minimum browse time when viewing Netflix suggestions was when the preview length = 75, match score = 75, tile size = 0.2, and preview type = TT. "
   ]
  },
  {
   "cell_type": "code",
   "execution_count": null,
   "id": "7fa842cb",
   "metadata": {},
   "outputs": [],
   "source": []
  }
 ],
 "metadata": {
  "kernelspec": {
   "display_name": "Python 3 (ipykernel)",
   "language": "python",
   "name": "python3"
  },
  "language_info": {
   "codemirror_mode": {
    "name": "ipython",
    "version": 3
   },
   "file_extension": ".py",
   "mimetype": "text/x-python",
   "name": "python",
   "nbconvert_exporter": "python",
   "pygments_lexer": "ipython3",
   "version": "3.11.7"
  }
 },
 "nbformat": 4,
 "nbformat_minor": 5
}
